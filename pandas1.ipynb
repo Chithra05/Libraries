{
  "nbformat": 4,
  "nbformat_minor": 0,
  "metadata": {
    "colab": {
      "name": "pandas1.ipynb",
      "provenance": [],
      "collapsed_sections": [],
      "authorship_tag": "ABX9TyPEu/peFg+4BQf00JQzFYq/",
      "include_colab_link": true
    },
    "kernelspec": {
      "name": "python3",
      "display_name": "Python 3"
    },
    "language_info": {
      "name": "python"
    }
  },
  "cells": [
    {
      "cell_type": "markdown",
      "metadata": {
        "id": "view-in-github",
        "colab_type": "text"
      },
      "source": [
        "<a href=\"https://colab.research.google.com/github/Chithra05/Libraries/blob/main/pandas1.ipynb\" target=\"_parent\"><img src=\"https://colab.research.google.com/assets/colab-badge.svg\" alt=\"Open In Colab\"/></a>"
      ]
    },
    {
      "cell_type": "code",
      "execution_count": null,
      "metadata": {
        "colab": {
          "base_uri": "https://localhost:8080/"
        },
        "id": "7ul-ZCnwuikL",
        "outputId": "2d588a13-778d-4df8-f950-e9aa207a1c3f"
      },
      "outputs": [
        {
          "output_type": "stream",
          "name": "stdout",
          "text": [
            "Requirement already satisfied: pandas in /usr/local/lib/python3.7/dist-packages (1.1.5)\n",
            "Requirement already satisfied: python-dateutil>=2.7.3 in /usr/local/lib/python3.7/dist-packages (from pandas) (2.8.2)\n",
            "Requirement already satisfied: numpy>=1.15.4 in /usr/local/lib/python3.7/dist-packages (from pandas) (1.19.5)\n",
            "Requirement already satisfied: pytz>=2017.2 in /usr/local/lib/python3.7/dist-packages (from pandas) (2018.9)\n",
            "Requirement already satisfied: six>=1.5 in /usr/local/lib/python3.7/dist-packages (from python-dateutil>=2.7.3->pandas) (1.15.0)\n"
          ]
        }
      ],
      "source": [
        "pip install pandas"
      ]
    },
    {
      "cell_type": "code",
      "source": [
        "pip install numpy"
      ],
      "metadata": {
        "colab": {
          "base_uri": "https://localhost:8080/"
        },
        "id": "b3b8jwrMulJt",
        "outputId": "500e7447-86b5-4118-fe83-86319dfd7c27"
      },
      "execution_count": null,
      "outputs": [
        {
          "output_type": "stream",
          "name": "stdout",
          "text": [
            "Requirement already satisfied: numpy in /usr/local/lib/python3.7/dist-packages (1.19.5)\n"
          ]
        }
      ]
    },
    {
      "cell_type": "code",
      "source": [
        "import pandas as pd"
      ],
      "metadata": {
        "id": "qolAB6yYupGQ"
      },
      "execution_count": null,
      "outputs": []
    },
    {
      "cell_type": "code",
      "source": [
        "import numpy as np"
      ],
      "metadata": {
        "id": "H8-qiFiTurFM"
      },
      "execution_count": null,
      "outputs": []
    },
    {
      "cell_type": "code",
      "source": [
        "df_dict={\"vegetables\":['carrot','beans','potato'],\n",
        "         \"fruits\":['apple','banana','jackfruit']}\n",
        "groceries =pd.DataFrame(df_dict)\n",
        "print(groceries)"
      ],
      "metadata": {
        "colab": {
          "base_uri": "https://localhost:8080/"
        },
        "id": "bbrgPGkSutuu",
        "outputId": "1f593258-adaf-41b6-fb9b-0fe30c03ae6e"
      },
      "execution_count": null,
      "outputs": [
        {
          "output_type": "stream",
          "name": "stdout",
          "text": [
            "  vegetables     fruits\n",
            "0     carrot      apple\n",
            "1      beans     banana\n",
            "2     potato  jackfruit\n"
          ]
        }
      ]
    },
    {
      "cell_type": "code",
      "source": [
        "groceries.index=[\"f1\",\"f2\",\"f3\"]\n",
        "print (groceries)"
      ],
      "metadata": {
        "colab": {
          "base_uri": "https://localhost:8080/"
        },
        "id": "2HtjWqDsvqdc",
        "outputId": "b609dea7-0363-4a36-c0a7-326e9abbceb5"
      },
      "execution_count": null,
      "outputs": [
        {
          "output_type": "stream",
          "name": "stdout",
          "text": [
            "   vegetables     fruits\n",
            "f1     carrot      apple\n",
            "f2      beans     banana\n",
            "f3     potato  jackfruit\n"
          ]
        }
      ]
    },
    {
      "cell_type": "code",
      "source": [
        "print(groceries['fruits'])\n"
      ],
      "metadata": {
        "colab": {
          "base_uri": "https://localhost:8080/"
        },
        "id": "xj_1v667wQy-",
        "outputId": "f95e786b-84d2-4fd0-c05b-77e6e34c8b6f"
      },
      "execution_count": null,
      "outputs": [
        {
          "output_type": "stream",
          "name": "stdout",
          "text": [
            "f1        apple\n",
            "f2       banana\n",
            "f3    jackfruit\n",
            "Name: fruits, dtype: object\n"
          ]
        }
      ]
    },
    {
      "cell_type": "code",
      "source": [
        "print(groceries[['fruits','vegetables']])"
      ],
      "metadata": {
        "colab": {
          "base_uri": "https://localhost:8080/"
        },
        "id": "3QiNdWqA3nGq",
        "outputId": "1f44562d-a936-4315-c987-c878a234108f"
      },
      "execution_count": null,
      "outputs": [
        {
          "output_type": "stream",
          "name": "stdout",
          "text": [
            "       fruits vegetables\n",
            "f1      apple     carrot\n",
            "f2     banana      beans\n",
            "f3  jackfruit     potato\n"
          ]
        }
      ]
    },
    {
      "cell_type": "code",
      "source": [
        "dates= pd.date_range(\"20220505\" ,periods=6)"
      ],
      "metadata": {
        "id": "anLebulO4AVk"
      },
      "execution_count": null,
      "outputs": []
    },
    {
      "cell_type": "code",
      "source": [
        "print(dates)"
      ],
      "metadata": {
        "colab": {
          "base_uri": "https://localhost:8080/"
        },
        "id": "2KKDX4uw4tUH",
        "outputId": "10bf95b7-4361-4a59-d4a5-deb824397690"
      },
      "execution_count": null,
      "outputs": [
        {
          "output_type": "stream",
          "name": "stdout",
          "text": [
            "DatetimeIndex(['2022-05-05', '2022-05-06', '2022-05-07', '2022-05-08',\n",
            "               '2022-05-09', '2022-05-10'],\n",
            "              dtype='datetime64[ns]', freq='D')\n"
          ]
        }
      ]
    },
    {
      "cell_type": "code",
      "source": [
        "df=pd.DataFrame(np.random.randn(6,4),index=dates,columns=list('ABCD'))"
      ],
      "metadata": {
        "id": "GdQ_5ZXq4wpK"
      },
      "execution_count": null,
      "outputs": []
    },
    {
      "cell_type": "code",
      "source": [
        "print(df)"
      ],
      "metadata": {
        "colab": {
          "base_uri": "https://localhost:8080/"
        },
        "id": "CoKrwzh15U4p",
        "outputId": "786b7b6c-57bf-419f-aaf0-45baa4671148"
      },
      "execution_count": null,
      "outputs": [
        {
          "output_type": "stream",
          "name": "stdout",
          "text": [
            "                   A         B         C         D\n",
            "2022-05-05  1.228117 -0.195657 -0.406937  0.364081\n",
            "2022-05-06  0.403085  0.182079 -2.885963  0.031381\n",
            "2022-05-07 -1.023764  0.492807  1.269988  0.568091\n",
            "2022-05-08  2.238456 -0.293462 -1.231551 -1.596193\n",
            "2022-05-09 -1.281941  0.375974  1.564933 -0.161949\n",
            "2022-05-10  0.879809 -0.042109 -0.312570 -0.006132\n"
          ]
        }
      ]
    },
    {
      "cell_type": "code",
      "source": [
        "print(groceries['vegetables'][0])"
      ],
      "metadata": {
        "colab": {
          "base_uri": "https://localhost:8080/"
        },
        "id": "6UNHyBeI5ktA",
        "outputId": "f5accdd2-7822-40bc-cdbd-6b68de82603e"
      },
      "execution_count": null,
      "outputs": [
        {
          "output_type": "stream",
          "name": "stdout",
          "text": [
            "carrot\n"
          ]
        }
      ]
    },
    {
      "cell_type": "code",
      "source": [
        "print(groceries['vegetables'][1])"
      ],
      "metadata": {
        "colab": {
          "base_uri": "https://localhost:8080/"
        },
        "id": "BYR2Vhpf7TBO",
        "outputId": "050f859e-7fb3-415e-d56b-b665c1a5d246"
      },
      "execution_count": null,
      "outputs": [
        {
          "output_type": "stream",
          "name": "stdout",
          "text": [
            "beans\n"
          ]
        }
      ]
    },
    {
      "cell_type": "code",
      "source": [
        "print(groceries['fruits'][2])"
      ],
      "metadata": {
        "colab": {
          "base_uri": "https://localhost:8080/"
        },
        "id": "Fs6srXrv7a8l",
        "outputId": "baa68f1a-047d-4757-b449-7a216253af45"
      },
      "execution_count": null,
      "outputs": [
        {
          "output_type": "stream",
          "name": "stdout",
          "text": [
            "jackfruit\n"
          ]
        }
      ]
    },
    {
      "cell_type": "code",
      "source": [
        "s = pd.Series([1,2,3,np.nan,5,6])\n",
        "print(s)"
      ],
      "metadata": {
        "id": "w0AdPK0P7g4T",
        "colab": {
          "base_uri": "https://localhost:8080/"
        },
        "outputId": "55594d6b-3111-468d-c318-61600af53bf8"
      },
      "execution_count": null,
      "outputs": [
        {
          "output_type": "stream",
          "name": "stdout",
          "text": [
            "0    1.0\n",
            "1    2.0\n",
            "2    3.0\n",
            "3    NaN\n",
            "4    5.0\n",
            "5    6.0\n",
            "dtype: float64\n"
          ]
        }
      ]
    },
    {
      "cell_type": "code",
      "source": [
        "df2 = pd.DataFrame(\n",
        "{\"A\": 1.0,\n",
        "       \"B\":pd.Timestamp(\"20220101\"),\n",
        "       \"C\":pd.Series(1,index=list(range(4)),dtype=\"float32\"),\n",
        "       \"D\":np.array([3]*4,dtype=\"int32\"),\n",
        "       \"E\":pd.Categorical([\"test\",\"train\",\"test\",\"train\"]),\n",
        "       \"F\":\"foo\"}\n",
        ")\n",
        "      "
      ],
      "metadata": {
        "id": "B-RQA5Yd4Rra"
      },
      "execution_count": null,
      "outputs": []
    },
    {
      "cell_type": "code",
      "source": [
        "print(df2)"
      ],
      "metadata": {
        "id": "F61dET4I3xxJ",
        "colab": {
          "base_uri": "https://localhost:8080/"
        },
        "outputId": "a9c8ed6b-3fd3-4b66-860b-9e14e58733d1"
      },
      "execution_count": null,
      "outputs": [
        {
          "output_type": "stream",
          "name": "stdout",
          "text": [
            "     A          B    C  D      E    F\n",
            "0  1.0 2022-01-01  1.0  3   test  foo\n",
            "1  1.0 2022-01-01  1.0  3  train  foo\n",
            "2  1.0 2022-01-01  1.0  3   test  foo\n",
            "3  1.0 2022-01-01  1.0  3  train  foo\n"
          ]
        }
      ]
    },
    {
      "cell_type": "code",
      "source": [
        "print(df2.dtypes)"
      ],
      "metadata": {
        "id": "vh_hlx8CwKkv",
        "colab": {
          "base_uri": "https://localhost:8080/"
        },
        "outputId": "ab1d1ae9-e7be-4e83-aaf7-800d78ffbc4b"
      },
      "execution_count": null,
      "outputs": [
        {
          "output_type": "stream",
          "name": "stdout",
          "text": [
            "A           float64\n",
            "B    datetime64[ns]\n",
            "C           float32\n",
            "D             int32\n",
            "E          category\n",
            "F            object\n",
            "dtype: object\n"
          ]
        }
      ]
    }
  ]
}